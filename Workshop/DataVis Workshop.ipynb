{
 "cells": [
  {
   "cell_type": "markdown",
   "source": "___\n\n\n___\n# HackGwinnett Data Visualization Workshop\n",
   "metadata": {
    "cell_id": "00000-56af895f-ab91-4aa8-87fc-45a1fd510d38",
    "deepnote_cell_type": "markdown"
   }
  },
  {
   "cell_type": "markdown",
   "source": "# What Is Data Visualizaton?",
   "metadata": {
    "cell_id": "00001-93f187c0-a985-48f5-8a6a-2a949c01cdfa",
    "deepnote_cell_type": "markdown"
   }
  },
  {
   "cell_type": "markdown",
   "source": "# What's the process for analyzing data?",
   "metadata": {
    "tags": [],
    "cell_id": "00002-9f966a83-7dc7-4101-b32b-8da8b5fb1a7b",
    "deepnote_cell_type": "markdown"
   }
  },
  {
   "cell_type": "code",
   "metadata": {
    "tags": [],
    "cell_id": "00003-c7bc0528-3795-41a9-b18e-2f68bb458af5",
    "deepnote_to_be_reexecuted": false,
    "source_hash": "4b2f8dde",
    "execution_start": 1633296570035,
    "execution_millis": 0,
    "deepnote_cell_type": "code"
   },
   "source": "# IMPORTS\n# Our base graphing module, MATPLOTLIB: https://matplotlib.org/stable/gallery/index.html\n# Our \"pretty\" graphing module, SEABORN: https://seaborn.pydata.org/examples/index.html",
   "outputs": [],
   "execution_count": 14
  },
  {
   "cell_type": "code",
   "metadata": {
    "collapsed": true,
    "cell_id": "00003-a6e0fddc-c698-4c9f-a03f-36866ba79eaa",
    "deepnote_to_be_reexecuted": false,
    "source_hash": "73a783b5",
    "execution_start": 1633296363423,
    "execution_millis": 0,
    "deepnote_cell_type": "code"
   },
   "source": "# set the style of our graphs",
   "outputs": [],
   "execution_count": 9
  },
  {
   "cell_type": "code",
   "metadata": {
    "collapsed": true,
    "cell_id": "00004-50962b9d-bf0e-4e75-b4b4-7afd9ca183fe",
    "deepnote_to_be_reexecuted": false,
    "source_hash": "90d6544a",
    "execution_start": 1633296489939,
    "execution_millis": 0,
    "deepnote_cell_type": "code"
   },
   "source": "# load dataset into a variable",
   "outputs": [],
   "execution_count": 12
  },
  {
   "cell_type": "code",
   "metadata": {
    "collapsed": false,
    "cell_id": "00005-7cc2b07f-0ef6-4154-851d-2eadfcbe7552",
    "deepnote_to_be_reexecuted": false,
    "source_hash": "9c3ace90",
    "execution_start": 1633296421455,
    "execution_millis": 4,
    "deepnote_cell_type": "code"
   },
   "source": "# get a first glance at our dataset",
   "outputs": [],
   "execution_count": 11
  },
  {
   "cell_type": "code",
   "metadata": {
    "collapsed": false,
    "cell_id": "00008-931ce964-25bb-4c75-a39d-94b9e8ce7d50",
    "deepnote_to_be_reexecuted": false,
    "source_hash": "3991bc38",
    "execution_start": 1633296493727,
    "execution_millis": 4,
    "deepnote_cell_type": "code"
   },
   "source": "# JOINT PLOT: A plot that displays the relationship between two variables",
   "outputs": [],
   "execution_count": 13
  },
  {
   "cell_type": "code",
   "metadata": {
    "collapsed": false,
    "cell_id": "00010-8d988594-4b8f-4353-a403-7257b111472d",
    "deepnote_to_be_reexecuted": false,
    "source_hash": "84a4ac5b",
    "execution_start": 1633296610186,
    "execution_millis": 3,
    "deepnote_cell_type": "code"
   },
   "source": "# DIST PLOT: A plot that displays the distribution of a column of data",
   "outputs": [],
   "execution_count": 16
  },
  {
   "cell_type": "code",
   "metadata": {
    "collapsed": false,
    "cell_id": "00012-3054d63e-cb44-46ca-873c-b1f874dde3dc",
    "deepnote_to_be_reexecuted": false,
    "source_hash": "d27d1508",
    "execution_start": 1633297033540,
    "execution_millis": 0,
    "deepnote_cell_type": "code"
   },
   "source": "# BOX PLOT: A plot that displays the distribution of columns of data ",
   "outputs": [],
   "execution_count": 17
  },
  {
   "cell_type": "code",
   "metadata": {
    "collapsed": false,
    "cell_id": "00014-8b01bc59-e791-4c7e-bd87-7d8f10760b1f",
    "deepnote_to_be_reexecuted": false,
    "source_hash": "179da305",
    "execution_start": 1633297074590,
    "execution_millis": 2,
    "deepnote_cell_type": "code"
   },
   "source": "# SWARM PLOT: A special plot that graphs every point of data in relation another variable to show distribution",
   "outputs": [],
   "execution_count": 19
  },
  {
   "cell_type": "code",
   "metadata": {
    "collapsed": true,
    "cell_id": "00015-7b1f9cdc-5c9e-461d-9a07-e0d643c4c4b2",
    "deepnote_cell_type": "code"
   },
   "source": "# CODE HERE\n# REPLICATE EXERCISE PLOT IMAGE BELOW\n# BE CAREFUL NOT TO OVERWRITE CELL BELOW\n# THAT WOULD REMOVE THE EXERCISE PLOT IMAGE!",
   "outputs": [],
   "execution_count": null
  },
  {
   "cell_type": "code",
   "metadata": {
    "collapsed": false,
    "cell_id": "00016-25a48712-6b22-4a12-bd00-b74def71d121",
    "deepnote_to_be_reexecuted": false,
    "source_hash": "91f2c6f1",
    "execution_start": 1633297127022,
    "execution_millis": 0,
    "deepnote_cell_type": "code"
   },
   "source": "# COUNT PLOT: A simple plot that displays the frequency of data in a column",
   "outputs": [],
   "execution_count": 21
  },
  {
   "cell_type": "code",
   "metadata": {
    "collapsed": false,
    "cell_id": "00018-81b14353-2a87-4c63-a768-9da159edd0b5",
    "deepnote_to_be_reexecuted": false,
    "source_hash": "ff9faa45",
    "execution_start": 1633297180254,
    "execution_millis": 3,
    "deepnote_cell_type": "code"
   },
   "source": "# HEATMAP: Displays the correlaton of every variable against each other in the dataset",
   "outputs": [],
   "execution_count": 23
  },
  {
   "cell_type": "code",
   "metadata": {
    "collapsed": false,
    "cell_id": "00020-74024e5f-2702-43f2-8a12-42c3561b289d",
    "deepnote_to_be_reexecuted": false,
    "source_hash": "c45c22a",
    "execution_start": 1633297241691,
    "execution_millis": 0,
    "deepnote_cell_type": "code"
   },
   "source": " # FACET GRID: Displays multiple plots at once",
   "outputs": [],
   "execution_count": 24
  },
  {
   "cell_type": "markdown",
   "source": "# Data Cleanup",
   "metadata": {
    "tags": [],
    "cell_id": "00015-8bc4172e-4daa-491f-97c8-4ff96a8c3b68",
    "deepnote_cell_type": "markdown"
   }
  },
  {
   "cell_type": "code",
   "metadata": {
    "tags": [],
    "cell_id": "00016-ffc904dd-c8a7-4f92-bc6d-ba9d2be34f72",
    "deepnote_to_be_reexecuted": false,
    "source_hash": "211a1588",
    "execution_start": 1633297660015,
    "execution_millis": 0,
    "deepnote_cell_type": "code"
   },
   "source": "# null heatmap",
   "outputs": [],
   "execution_count": 27
  },
  {
   "cell_type": "code",
   "metadata": {
    "tags": [],
    "cell_id": "00017-fcdd3d1b-d10b-445a-9376-3e68d4fc5fdb",
    "deepnote_to_be_reexecuted": false,
    "source_hash": "31179717",
    "execution_start": 1633297679265,
    "execution_millis": 0,
    "deepnote_cell_type": "code"
   },
   "source": "# impute ages function",
   "outputs": [],
   "execution_count": 28
  },
  {
   "cell_type": "code",
   "metadata": {
    "tags": [],
    "cell_id": "00018-bee2adba-4484-4c03-88c6-34ee4dc7fd49",
    "deepnote_to_be_reexecuted": false,
    "source_hash": "3085c1a0",
    "execution_start": 1633297717927,
    "execution_millis": 0,
    "deepnote_cell_type": "code"
   },
   "source": "# apply our function",
   "outputs": [],
   "execution_count": 29
  },
  {
   "cell_type": "code",
   "metadata": {
    "tags": [],
    "cell_id": "00019-49663793-9aee-4d96-8c0d-7fa8acb45f59",
    "deepnote_to_be_reexecuted": false,
    "source_hash": "7bb9f965",
    "execution_start": 1633297737207,
    "execution_millis": 1,
    "deepnote_cell_type": "code"
   },
   "source": "# re-check our null heatmap",
   "outputs": [],
   "execution_count": 30
  },
  {
   "cell_type": "code",
   "metadata": {
    "tags": [],
    "cell_id": "00020-0687dd0e-c879-4ccd-a9dc-8dfdabd23d87",
    "deepnote_to_be_reexecuted": false,
    "source_hash": "63d4ce89",
    "execution_start": 1633297789347,
    "execution_millis": 0,
    "deepnote_cell_type": "code"
   },
   "source": "# drop cabin column",
   "outputs": [],
   "execution_count": 31
  },
  {
   "cell_type": "code",
   "metadata": {
    "tags": [],
    "cell_id": "00021-1886d57b-31c0-4d71-9f18-e9acee342850",
    "deepnote_cell_type": "code"
   },
   "source": "sex = pd.get_dummies(train['Sex'],drop_first=True)\nembark = pd.get_dummies(train['Embarked'],drop_first=True)\ntrain.drop(['Sex','Embarked','Name','Ticket'],axis=1,inplace=True)\ntrain = pd.concat([train,sex,embark],axis=1)",
   "execution_count": null,
   "outputs": []
  },
  {
   "cell_type": "code",
   "metadata": {
    "tags": [],
    "cell_id": "00022-ee8482c1-a2c5-4e5f-a92b-f23bdf532526",
    "deepnote_cell_type": "code"
   },
   "source": "train.head()",
   "execution_count": null,
   "outputs": []
  },
  {
   "cell_type": "markdown",
   "source": "# Building a Logistic Regression Model\nNow it's time to do a train test split, and train our model!\n\nYou'll have the freedom here to choose columns that you want to train on!",
   "metadata": {
    "tags": [],
    "cell_id": "00015-4be700ff-4484-4bf2-a192-147d89151e7b",
    "deepnote_cell_type": "markdown"
   }
  },
  {
   "cell_type": "code",
   "metadata": {
    "tags": [],
    "cell_id": "00015-e9ee1da9-4cb6-442e-8c18-82fa01f22ebc",
    "deepnote_to_be_reexecuted": false,
    "source_hash": "7cf6bdd",
    "execution_start": 1633297310247,
    "deepnote_cell_type": "code"
   },
   "source": "# TRAIN TEST SPLIT MODULE",
   "outputs": [],
   "execution_count": 25
  },
  {
   "cell_type": "code",
   "metadata": {
    "tags": [],
    "cell_id": "00016-507cd7ec-6345-4999-8645-a2f01b4044a4",
    "deepnote_to_be_reexecuted": false,
    "source_hash": "ef8dc22c",
    "execution_start": 1633297379924,
    "deepnote_cell_type": "code"
   },
   "source": "# train-test split",
   "outputs": [],
   "execution_count": 26
  },
  {
   "cell_type": "code",
   "metadata": {
    "tags": [],
    "cell_id": "00018-6b56f6e2-cf91-4de7-97ee-80625676bf86",
    "deepnote_cell_type": "code"
   },
   "source": "# LOGISTIC REGRESSION MODEL",
   "execution_count": null,
   "outputs": []
  },
  {
   "cell_type": "code",
   "metadata": {
    "tags": [],
    "cell_id": "00027-a64f5c93-1272-46fc-84de-5e378724f4a0",
    "deepnote_cell_type": "code"
   },
   "source": "# CREATING AND FITTING OUR MODEL",
   "execution_count": null,
   "outputs": []
  },
  {
   "cell_type": "markdown",
   "source": "# Evaluation",
   "metadata": {
    "tags": [],
    "cell_id": "00028-b970d83f-5ec6-4bdc-85c6-555d9d2fbdcc",
    "deepnote_cell_type": "markdown"
   }
  },
  {
   "cell_type": "code",
   "metadata": {
    "tags": [],
    "cell_id": "00029-c4e76e96-cabb-4114-9036-db2c36e8bd08",
    "deepnote_cell_type": "code"
   },
   "source": "# import classification report",
   "execution_count": null,
   "outputs": []
  },
  {
   "cell_type": "code",
   "metadata": {
    "tags": [],
    "cell_id": "00030-558161e1-39ef-473d-99e3-d52af513a8d6",
    "deepnote_cell_type": "code"
   },
   "source": "print(classification_report(y_test,predictions))",
   "execution_count": null,
   "outputs": []
  },
  {
   "cell_type": "markdown",
   "source": "<a style='text-decoration:none;line-height:16px;display:flex;color:#5B5B62;padding:10px;justify-content:end;' href='https://deepnote.com?utm_source=created-in-deepnote-cell&projectId=625e2ec1-0792-4a2a-ba04-09532f569a2f' target=\"_blank\">\n<img alt='Created in deepnote.com' style='display:inline;max-height:16px;margin:0px;margin-right:7.5px;' src='data:image/svg+xml;base64,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' > </img>\nCreated in <span style='font-weight:600;margin-left:4px;'>Deepnote</span></a>",
   "metadata": {
    "tags": [],
    "created_in_deepnote_cell": true,
    "deepnote_cell_type": "markdown"
   }
  }
 ],
 "nbformat": 4,
 "nbformat_minor": 0,
 "metadata": {
  "kernelspec": {
   "display_name": "Python 3",
   "language": "python",
   "name": "python3"
  },
  "language_info": {
   "codemirror_mode": {
    "name": "ipython",
    "version": 3
   },
   "file_extension": ".py",
   "mimetype": "text/x-python",
   "name": "python",
   "nbconvert_exporter": "python",
   "pygments_lexer": "ipython3",
   "version": "3.5.1"
  },
  "deepnote_notebook_id": "00102111-2c9a-48be-bb8f-35d434b5a1c1",
  "deepnote": {},
  "deepnote_execution_queue": []
 }
}